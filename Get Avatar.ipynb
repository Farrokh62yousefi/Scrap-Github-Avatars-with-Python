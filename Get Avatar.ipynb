{
 "cells": [
  {
   "cell_type": "markdown",
   "id": "6e6ad1db",
   "metadata": {},
   "source": [
    "# Download Avatar under 2KB and 420*420 px"
   ]
  },
  {
   "cell_type": "code",
   "execution_count": null,
   "id": "bd831697",
   "metadata": {},
   "outputs": [
    {
     "name": "stderr",
     "output_type": "stream",
     "text": [
      " 31%|█████████████████████████▎                                                       | 34/109 [00:05<00:11,  6.61it/s]"
     ]
    }
   ],
   "source": [
    "import cloudscraper\n",
    "from tqdm import tqdm\n",
    "import os\n",
    "from PIL import Image\n",
    "\n",
    "scraper = cloudscraper.create_scraper(browser='chrome')\n",
    "output_dir = \"images\"\n",
    "\n",
    "for pg in tqdm(range(25515500, 25515609)):\n",
    "    url = 'https://avatars.githubusercontent.com/u/'+str(pg)+'?v=4'\n",
    "    content = scraper.get(url).content\n",
    "    if(len(content) < 2 * 1024):\n",
    "        filename = os.path.join(output_dir,  str(pg)+\".png\")\n",
    "        file = open(filename, \"wb\")\n",
    "        file.write(content)\n",
    "        file.close()\n",
    "        with Image.open(filename) as img:\n",
    "            width, height = img.size\n",
    "        if(width != 420 and height != 420):\n",
    "            os.remove(filename)"
   ]
  },
  {
   "cell_type": "markdown",
   "id": "f869ef5a",
   "metadata": {},
   "source": [
    "# Rename"
   ]
  },
  {
   "cell_type": "code",
   "execution_count": 28,
   "id": "ab0a50d6",
   "metadata": {},
   "outputs": [
    {
     "name": "stderr",
     "output_type": "stream",
     "text": [
      "100%|████████████████████████████████████████████████████████████████████████████| 5242/5242 [00:04<00:00, 1265.27it/s]\n"
     ]
    }
   ],
   "source": [
    "from tqdm import tqdm\n",
    "import os\n",
    "\n",
    "files_list = []\n",
    "files = os.listdir(\"images\")\n",
    "\n",
    "for filename in files:\n",
    "    if(filename.endswith(\".png\")):\n",
    "        files_list.append(filename)\n",
    "\n",
    "output_dir = \"images\"\n",
    "for i in tqdm(range(len(files_list))):\n",
    "    os.rename(output_dir +\"/\"+ files_list[i], output_dir +\"/\"+ str(i+1)+\".png\")"
   ]
  }
 ],
 "metadata": {
  "kernelspec": {
   "display_name": "Python 3",
   "language": "python",
   "name": "python3"
  },
  "language_info": {
   "codemirror_mode": {
    "name": "ipython",
    "version": 3
   },
   "file_extension": ".py",
   "mimetype": "text/x-python",
   "name": "python",
   "nbconvert_exporter": "python",
   "pygments_lexer": "ipython3",
   "version": "3.8.8"
  }
 },
 "nbformat": 4,
 "nbformat_minor": 5
}
