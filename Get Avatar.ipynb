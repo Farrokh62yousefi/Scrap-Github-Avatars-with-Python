{
 "cells": [
  {
   "cell_type": "code",
   "execution_count": null,
   "id": "bd831697",
   "metadata": {},
   "outputs": [
    {
     "name": "stderr",
     "output_type": "stream",
     "text": [
      " 43%|█████████████████████████████████▏                                           | 4564/10609 [21:02<25:18,  3.98it/s]"
     ]
    }
   ],
   "source": [
    "import cloudscraper\n",
    "from tqdm import tqdm\n",
    "import os\n",
    "from PIL import Image\n",
    "\n",
    "scraper = cloudscraper.create_scraper(browser='chrome')\n",
    "output_dir = \"images\"\n",
    "for pg in tqdm(range(25505000, 25515609)):\n",
    "    url = 'https://avatars.githubusercontent.com/u/'+str(pg)+'?v=4'\n",
    "    buffer = scraper.get(url).content\n",
    "    if(len(buffer) < 2 * 1024):\n",
    "        filename = os.path.join(output_dir,  str(pg)+\".png\")\n",
    "        file = open(filename, \"wb\")\n",
    "        file.write(buffer)\n",
    "        file.close()\n",
    "        with Image.open(filename) as img:\n",
    "            width, height = img.size\n",
    "        if(width != 420 and height != 420):\n",
    "            os.remove(filename)"
   ]
  }
 ],
 "metadata": {
  "kernelspec": {
   "display_name": "Python 3",
   "language": "python",
   "name": "python3"
  },
  "language_info": {
   "codemirror_mode": {
    "name": "ipython",
    "version": 3
   },
   "file_extension": ".py",
   "mimetype": "text/x-python",
   "name": "python",
   "nbconvert_exporter": "python",
   "pygments_lexer": "ipython3",
   "version": "3.8.8"
  }
 },
 "nbformat": 4,
 "nbformat_minor": 5
}
